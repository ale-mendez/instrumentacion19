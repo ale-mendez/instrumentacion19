{
 "cells": [
  {
   "cell_type": "code",
   "execution_count": 42,
   "metadata": {},
   "outputs": [
    {
     "name": "stdout",
     "output_type": "stream",
     "text": [
      "8\n",
      "8.0\n"
     ]
    }
   ],
   "source": [
    "class MiClase:\n",
    "    def __init__(self,value):\n",
    "        self._value = value\n",
    "        \n",
    "    def get_value(self):\n",
    "        return self._value\n",
    "    \n",
    "    def set_value(self,value):\n",
    "        if not isinstance(value,float):\n",
    "            raise ValueError\n",
    "        self._value=value\n",
    "    \n",
    "    # descriptor (propiedad)\n",
    "    value = property(get_value,set_value)\n",
    "    \n",
    "c=MiClase(8)\n",
    "print(c._value)\n",
    "\n",
    "c.value=8.0\n",
    "print(c.value)"
   ]
  },
  {
   "cell_type": "code",
   "execution_count": 50,
   "metadata": {},
   "outputs": [
    {
     "name": "stdout",
     "output_type": "stream",
     "text": [
      "<function fun at 0x7fa3c4281c80> 3\n",
      "6.0\n",
      "<function otra_fun at 0x7fa3c42819d8> 3\n",
      "12.0\n"
     ]
    }
   ],
   "source": [
    "def deco(func):\n",
    "    def inner(x):\n",
    "        print(func,x)\n",
    "        return func(x)\n",
    "    return inner\n",
    "\n",
    "@deco\n",
    "def fun(x):\n",
    "    return 2.*x\n",
    "\n",
    "@deco\n",
    "def otra_fun(x):\n",
    "    return 4.*x\n",
    "\n",
    "print(fun(3))\n",
    "print(otra_fun(3))"
   ]
  },
  {
   "cell_type": "code",
   "execution_count": 51,
   "metadata": {},
   "outputs": [
    {
     "name": "stdout",
     "output_type": "stream",
     "text": [
      "8\n",
      "8.0\n"
     ]
    }
   ],
   "source": [
    "class MiClase:\n",
    "    def __init__(self,value):\n",
    "        self._value = value\n",
    "    \n",
    "    @property\n",
    "    def value(self):\n",
    "        return self._value\n",
    "    \n",
    "    @value.setter\n",
    "    def value(self,value):\n",
    "        if not isinstance(value,float):\n",
    "            raise ValueError\n",
    "        self._value=value\n",
    "    \n",
    "c=MiClase(8)\n",
    "print(c._value)\n",
    "\n",
    "c.value=8.0\n",
    "print(c.value)"
   ]
  },
  {
   "cell_type": "code",
   "execution_count": null,
   "metadata": {},
   "outputs": [],
   "source": []
  },
  {
   "cell_type": "code",
   "execution_count": null,
   "metadata": {},
   "outputs": [],
   "source": []
  },
  {
   "cell_type": "code",
   "execution_count": null,
   "metadata": {},
   "outputs": [],
   "source": []
  }
 ],
 "metadata": {
  "kernelspec": {
   "display_name": "Python 3",
   "language": "python",
   "name": "python3"
  },
  "language_info": {
   "codemirror_mode": {
    "name": "ipython",
    "version": 3
   },
   "file_extension": ".py",
   "mimetype": "text/x-python",
   "name": "python",
   "nbconvert_exporter": "python",
   "pygments_lexer": "ipython3",
   "version": "3.7.1"
  }
 },
 "nbformat": 4,
 "nbformat_minor": 2
}
