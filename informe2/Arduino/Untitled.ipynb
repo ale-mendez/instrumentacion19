{
 "cells": [
  {
   "cell_type": "code",
   "execution_count": 1,
   "metadata": {},
   "outputs": [],
   "source": [
    "import visa\n",
    "import serial\n",
    "import numpy as np\n",
    "import matplotlib.pyplot as plt"
   ]
  },
  {
   "cell_type": "code",
   "execution_count": 2,
   "metadata": {},
   "outputs": [],
   "source": [
    "rm=visa.ResourceManager()\n",
    "device=[]\n",
    "device=rm.list_resources()"
   ]
  },
  {
   "cell_type": "code",
   "execution_count": 3,
   "metadata": {
    "collapsed": true
   },
   "outputs": [],
   "source": [
    "class Instrumento:\n",
    "\n",
    "    def __init__(self, serialno):\n",
    "        self.serial = serialno\n",
    "        self.instr = rm.open_resource(serialno)\n",
    "\n",
    "\n",
    "class WaveGenerator(Instrumento):\n",
    "\n",
    "    ##@Feat()\n",
    "    def who_am_i(self):\n",
    "        idn = self.instr.query('*IDN?')\n",
    "        return idn.strip()\n",
    "\n",
    "    def which_freq_mod(self):\n",
    "        mod = self.instr.query('SOURce1:FREQuency:MODE?')\n",
    "        return mod.strip()\n",
    "\n",
    "    # def which_volt_amp(self):\n",
    "    #     dum = self.instr.query('SOURce1:VOLTage:LEVel:IMMediate:AMPLitude?')\n",
    "    #     return float(dum)\n",
    "    #\n",
    "    # def which_volt_min(self):\n",
    "    #     dum = self.instr.query('SOURce1:VOLTage:LEVel:IMMediate:AMPLitude? MINimum')\n",
    "    #     return float(dum)\n",
    "    #\n",
    "    # def which_volt_max(self):\n",
    "    #     dum = self.instr.query('SOURce1:VOLTage:LEVel:IMMediate:AMPLitude? MAXimum')\n",
    "    #     return float(dum)\n",
    "    #\n",
    "    # def which_volt_unit(self):\n",
    "    #     return self.instr.query('SOURce1:VOLTage:UNIT?')\n",
    "\n",
    "    def which_volt_amp(self):\n",
    "        amp = self.instr.query('SOURce1:VOLTage:LEVel:IMMediate:AMPLitude?')\n",
    "        ampmin = self.instr.query('SOURce1:VOLTage:LEVel:IMMediate:AMPLitude? MINimum')\n",
    "        ampmax = self.instr.query('SOURce1:VOLTage:LEVel:IMMediate:AMPLitude? MAXimum')\n",
    "        ampunit = self.instr.query('SOURce1:VOLTage:UNIT?')\n",
    "        return float(amp), float(ampmin), float(ampmax), ampunit.strip()\n",
    "\n",
    "    def which_volt_offset(self):\n",
    "        voff = self.instr.query('SOURce1:VOLTage:OFFSet?')\n",
    "        voffmin = self.instr.query('SOURce1:VOLTage:OFFSet? MINimum')\n",
    "        voffmax = self.instr.query('SOURce1:VOLTage:OFFSet? MAXimum')\n",
    "        return float(voff), float(voffmin), float(voffmax)\n",
    "\n",
    "    def freq_mod(self, modtype):\n",
    "        # options:\n",
    "        # CW|SWEep\n",
    "        print('Setting new freq mode:')\n",
    "        if modtype == 'CW':\n",
    "            print(' ==> CW (continuous wave)')\n",
    "        if modtype == 'SWEep':\n",
    "            print(' ==> Sweep')\n",
    "        return self.instr.write('SOURce1:FREQuency:MODE {}'.format(modtype))\n",
    "\n",
    "    def freq_fix(self,freq):\n",
    "        return self.instr.write('SOURce1:FREQuency:FIXed {}'.format(freq))\n",
    "\n",
    "    def func_shape(self,ishape):\n",
    "        # options:\n",
    "        # SINusoid|SQUare|PULSe|RAMP|PRNoise|DC|SINC|GAUSsian|LORentz|ERISe|EDECay|HAVersine\n",
    "        print('Setting new function: \\n ==> {} function'.format(ishape))\n",
    "        return self.instr.write('SOURce1:FUNCtion:SHAPe {}'.format(ishape))\n",
    "\n",
    "    def voltaje(self,amplitude,units):\n",
    "        # options:\n",
    "        # VPP|VRMS|DBM\n",
    "        if amplitude > voltmax:\n",
    "            raise ValueError(' *** input amplitude should be smaller than {} *** '.format(voltmax))\n",
    "        if amplitude < voltmin:\n",
    "            raise ValueError(' *** input amplitude should be greater than {} *** '.format(voltmin))\n",
    "        newvolt=str(amplitude)+\" \"+units\n",
    "        print('Setting new voltaje: \\n ==> {} {}'.format(amplitude,units))\n",
    "        return self.instr.write('SOURce1:VOLTage:LEVel:IMMediate:AMPLitude {} {}'.format(amplitude,units))\n",
    "\n",
    "    def volt_offset(self,voffset,units):\n",
    "        print('Setting new offset voltaje: \\n ==> {} {}'.format(voffset,units))\n",
    "        return self.instr.write('SOURce1:VOLTage:LEVel:IMMediate:OFFSet {} {}'.format(voffset,units))\n",
    "\n",
    "\n",
    "    def arduino(com='COM4'):\n",
    "        puerto_serie=serial.Serial(com,9600,timeout=0)\n",
    "        lectura=puerto_serie.readline().strip()\n",
    "        puerto_serie.close() \n",
    "        return lectura"
   ]
  },
  {
   "cell_type": "code",
   "execution_count": 142,
   "metadata": {},
   "outputs": [
    {
     "name": "stdout",
     "output_type": "stream",
     "text": [
      "Current instrument: TEKTRONIX,AFG3021B,C034167,SCPI:99.0 FV:3.1.1\n",
      "DEFAULT VALUES:\n",
      "---------------\n",
      " Frequency mode: CW\n",
      " Voltaje: 1.0 VPP\n",
      "     min: 0.02 VPP\n",
      "     max: 19.0 VPP\n",
      " Offset: 0.5\n",
      "\n",
      "NEW VALUES:\n",
      "-------------\n",
      "Setting new freq mode:\n",
      " ==> CW (continuous wave)\n",
      "Setting new function: \n",
      " ==> SIN function\n",
      "Setting new voltaje: \n",
      " ==> 1 VPP\n",
      "Setting new offset voltaje: \n",
      " ==> 0 V\n"
     ]
    },
    {
     "data": {
      "text/plain": [
       "(44, <StatusCode.success: 0>)"
      ]
     },
     "execution_count": 142,
     "metadata": {},
     "output_type": "execute_result"
    }
   ],
   "source": [
    "\n",
    "# define instrument\n",
    "my_instrument = WaveGenerator(device[0])\n",
    "\n",
    "whoami = my_instrument.who_am_i()\n",
    "deffreqmod = my_instrument.which_freq_mod()\n",
    "# whichvoltamp = my_instrument.which_volt_amp()\n",
    "# whichvoltunit = my_instrument.which_volt_unit()\n",
    "# voltmin = my_instrument.which_volt_min()\n",
    "# voltmax = my_instrument.which_volt_max()\n",
    "defvoltamp, defvoltmin, defvoltmax, defvoltunit = my_instrument.which_volt_amp()\n",
    "voltmin = float(defvoltmin)\n",
    "voltmax = float(defvoltmax)\n",
    "defvoffset, defvoffmin, defvoffmax = my_instrument.which_volt_offset()\n",
    "\n",
    "print('Current instrument:',whoami)\n",
    "print('DEFAULT VALUES:')\n",
    "print('---------------')\n",
    "print(' Frequency mode:',deffreqmod)\n",
    "print(' Voltaje:',defvoltamp,defvoltunit)\n",
    "print('     min:',voltmin,defvoltunit)\n",
    "print('     max:',voltmax,defvoltunit)\n",
    "print(' Offset:',defvoffset)\n",
    "\n",
    "print('\\nNEW VALUES:')\n",
    "print('-------------')\n",
    "# set frequency mode:\n",
    "my_instrument.freq_mod('CW')\n",
    "# set function shape\n",
    "my_instrument.func_shape('SIN')\n",
    "# set fixed frequency value\n",
    "my_instrument.freq_fix('100Hz')\n",
    "# set voltaje amplitude\n",
    "my_instrument.voltaje(1,'VPP')\n",
    "# set voltaje offset\n",
    "my_instrument.volt_offset(0,'V')"
   ]
  },
  {
   "cell_type": "markdown",
   "metadata": {},
   "source": [
    "## codigo arduino:"
   ]
  },
  {
   "cell_type": "markdown",
   "metadata": {},
   "source": [
    "int PinLectura = 0;\n",
    "float Volt;\n",
    "\n",
    "void setup() {\n",
    "  \n",
    "  Serial.begin(9600);\n",
    "}\n",
    "\n",
    "void loop() {\n",
    "  \n",
    "  Volt = (analogRead(PinLectura))*5.0/1023;  // Leer voltaje pin A0\n",
    "  Serial.println(Volt);\n",
    "\n",
    "  delay(100);\n",
    "}"
   ]
  },
  {
   "cell_type": "markdown",
   "metadata": {},
   "source": [
    "# set frequency to write and read with arduino"
   ]
  },
  {
   "cell_type": "code",
   "execution_count": 143,
   "metadata": {},
   "outputs": [],
   "source": [
    "fmin=100\n",
    "fmax=100\n",
    "nfreq=1\n",
    "fvals=np.linspace(fmin,fmax,nfreq)\n",
    "npts=100"
   ]
  },
  {
   "cell_type": "code",
   "execution_count": 186,
   "metadata": {},
   "outputs": [],
   "source": [
    "puerto_serie.close()"
   ]
  },
  {
   "cell_type": "code",
   "execution_count": 145,
   "metadata": {},
   "outputs": [
    {
     "name": "stdout",
     "output_type": "stream",
     "text": [
      "Using matplotlib backend: Qt5Agg\n"
     ]
    }
   ],
   "source": [
    "%matplotlib auto"
   ]
  },
  {
   "cell_type": "code",
   "execution_count": 189,
   "metadata": {},
   "outputs": [],
   "source": [
    "puerto_serie=serial.Serial('COM4',9600)\n",
    "funcs=[]\n",
    "wave=[]\n",
    "npts=300\n",
    "for j in range(npts):\n",
    "    lectura=puerto_serie.readline().strip()\n",
    "    flec=float(lectura)\n",
    "    wave.append(flec)\n",
    "funcs.append(wave)\n",
    "puerto_serie.close()"
   ]
  },
  {
   "cell_type": "code",
   "execution_count": 190,
   "metadata": {
    "collapsed": true
   },
   "outputs": [],
   "source": [
    "plt.plot(wave,'ko',linestyle='solid')\n",
    "plt.show()"
   ]
  },
  {
   "cell_type": "code",
   "execution_count": 191,
   "metadata": {
    "collapsed": true
   },
   "outputs": [],
   "source": [
    "np.savetxt(\"arduinoPaso50-PWM175.dat\",wave)"
   ]
  },
  {
   "cell_type": "code",
   "execution_count": 146,
   "metadata": {},
   "outputs": [],
   "source": [
    "puerto_serie=serial.Serial('COM4',9600)\n",
    "funcs=[]\n",
    "for i in fvals:\n",
    "    newfreq=str(i)+\"Hz\"\n",
    "    my_instrument.freq_fix(newfreq)\n",
    "    wave=[]\n",
    "    for j in range(npts):\n",
    "        lectura=puerto_serie.readline().strip()\n",
    "        flec=float(lectura)\n",
    "        wave.append(flec)\n",
    "    funcs.append(wave)\n",
    "puerto_serie.close()"
   ]
  },
  {
   "cell_type": "code",
   "execution_count": 181,
   "metadata": {},
   "outputs": [],
   "source": [
    "puerto_serie.close()"
   ]
  },
  {
   "cell_type": "code",
   "execution_count": 173,
   "metadata": {},
   "outputs": [],
   "source": [
    "plt.plot(funcs,'ko',linestyle='solid')\n",
    "plt.show()"
   ]
  },
  {
   "cell_type": "code",
   "execution_count": 149,
   "metadata": {},
   "outputs": [
    {
     "name": "stdout",
     "output_type": "stream",
     "text": [
      "0\n"
     ]
    }
   ],
   "source": [
    "for i in range(nfreq):\n",
    "    print(i)\n",
    "    np.savetxt(str(fvals[i])+\"Hz_1VPP_delay100_recortada.dat\",funcs[i])"
   ]
  },
  {
   "cell_type": "code",
   "execution_count": 85,
   "metadata": {},
   "outputs": [],
   "source": [
    "fun0=np.loadtxt(\"1.0Hz_5VPP_delay100.dat\")\n",
    "fun1=np.loadtxt(\"1.0Hz_5VPP_delay10.dat\")\n",
    "fun2=np.loadtxt(\"1.0Hz_5VPP_delay1.dat\")"
   ]
  },
  {
   "cell_type": "code",
   "execution_count": 86,
   "metadata": {},
   "outputs": [],
   "source": [
    "plt.plot(fun0,'ko',linestyle='solid')\n",
    "plt.plot(fun1,'ro',linestyle='solid')\n",
    "plt.plot(fun2,'go',linestyle='solid')\n",
    "\n",
    "plt.show()"
   ]
  },
  {
   "cell_type": "code",
   "execution_count": 112,
   "metadata": {},
   "outputs": [],
   "source": [
    "fun0=np.loadtxt(\"100.0Hz_7VPP_delay100.dat\")\n",
    "plt.plot(fun0,'ko',linestyle='solid')\n",
    "plt.show()"
   ]
  },
  {
   "cell_type": "markdown",
   "metadata": {},
   "source": [
    "# set frequency to write arduino"
   ]
  },
  {
   "cell_type": "code",
   "execution_count": 151,
   "metadata": {
    "collapsed": true
   },
   "outputs": [],
   "source": [
    "import visa\n",
    "from matplotlib import pyplot as plt\n",
    "import numpy as np\n",
    "import os, sys"
   ]
  },
  {
   "cell_type": "code",
   "execution_count": 169,
   "metadata": {},
   "outputs": [
    {
     "ename": "SystemExit",
     "evalue": "",
     "output_type": "error",
     "traceback": [
      "An exception has occurred, use %tb to see the full traceback.\n",
      "\u001b[1;31mSystemExit\u001b[0m\n"
     ]
    },
    {
     "name": "stderr",
     "output_type": "stream",
     "text": [
      "C:\\Users\\publico.LABORATORIOS\\AppData\\Local\\Continuum\\anaconda3\\lib\\site-packages\\IPython\\core\\interactiveshell.py:2870: UserWarning: To exit: use 'exit', 'quit', or Ctrl-D.\n",
      "  warn(\"To exit: use 'exit', 'quit', or Ctrl-D.\", stacklevel=1)\n"
     ]
    }
   ],
   "source": [
    "rm=visa.ResourceManager()\n",
    "device=[]\n",
    "device=rm.list_resources()\n",
    "\n",
    "#print(device)\n",
    "\n",
    "class Osciloscopio:\n",
    "    \n",
    "    def __init__(self, devnumber):\n",
    "        self.devnumber = devnumber\n",
    "        self.oscilo = rm.open_resource(devnumber)\n",
    "    \n",
    "    def quien_soy(self):\n",
    "        return self.oscilo.query('*IDN?')\n",
    "    \n",
    "    def auto_set(self):\n",
    "        self.oscilo.write('AUTOSet')\n",
    "    \n",
    "    def trigger_cuanto_es(self):\n",
    "        return self.oscilo.query('TRIGger?')\n",
    "    \n",
    "    def trigger_set(self, voltaje_trigger):\n",
    "        self.oscilo.write('TRIGger:MAIn:LEVel'+str(voltaje_trigger))\n",
    "    \n",
    "    def trigger_pulso(self, channel):\n",
    "        self.oscilo.write('TRIGger:MAIn:PULse:SOUrce '+str(channel)) \n",
    "    \n",
    "    def tiempo_que_usas(self):\n",
    "        return self.oscilo.query('HORizontal:DELay?')\n",
    "    \n",
    "    def tiempo_set(self, tiempo):\n",
    "        self.oscilo.write('HORizontal:MAIn:SCAle '+str(tiempo))\n",
    "    \n",
    "    def voltaje_ch1(self, channel, voltaje):\n",
    "        self.oscilo.write('CH'+str(channel)+':SCAle '+str(voltaje))\n",
    "        \n",
    "    def set_del_ch1(self, channel):\n",
    "        return self.oscilo.query('CH'+str(channel)+'?')\t\n",
    "    \n",
    "    def pantalla(self,nombre):\n",
    "        xze, xin, yze, ymu, yoff = self.oscilo.query_ascii_values('WFMPRE:XZE?;XIN?;YZE?;YMU?;YOFF?;', \tseparator=';')\n",
    "        self.oscilo.write('DATa:SOUrce CH1')\n",
    "        self.oscilo.write('DAT:ENC RPB')\n",
    "        self.oscilo.write('DAT:WID 1')\n",
    "        data = self.oscilo.query_binary_values('CURV?', datatype='B', container=np.array)\n",
    "        tiempo = xze + np.arange(len(data)) * xin\n",
    "        plt.plot(tiempo, data);\n",
    "        plt.xlabel('Tiempo [s]');\n",
    "        plt.ylabel('Voltaje [V]');\n",
    "        plt.show()\n",
    "        np.savetxt(nombre+\"data.dat\",data)\n",
    "        np.savetxt(nombre+\"tiempo.dat\",tiempo)\n",
    "\n",
    "\n",
    "Oscilo=Osciloscopio(device[0])\n",
    "Channel=1\n",
    "Volt_set=1\n",
    "voltaje_trigger=0.5\n",
    "tiempo=5E-2\n",
    "\n",
    "Oscilo.pantalla(\"EntradaArduino-5VPP_PWM100\")\n",
    "\n",
    "sys.exit()"
   ]
  }
 ],
 "metadata": {
  "kernelspec": {
   "display_name": "Python 3",
   "language": "python",
   "name": "python3"
  },
  "language_info": {
   "codemirror_mode": {
    "name": "ipython",
    "version": 3
   },
   "file_extension": ".py",
   "mimetype": "text/x-python",
   "name": "python",
   "nbconvert_exporter": "python",
   "pygments_lexer": "ipython3",
   "version": "3.7.1"
  }
 },
 "nbformat": 4,
 "nbformat_minor": 2
}
