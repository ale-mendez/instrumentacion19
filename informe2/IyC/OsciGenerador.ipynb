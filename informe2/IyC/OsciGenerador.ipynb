{
 "cells": [
  {
   "cell_type": "code",
   "execution_count": 1,
   "metadata": {},
   "outputs": [
    {
     "ename": "ImportError",
     "evalue": "\n    Could not load requested Qt binding. Please ensure that\n    PyQt4 >= 4.7 or PySide >= 1.0.3 is available,\n    and only one is imported per session.\n\n    Currently-imported Qt library:   None\n    PyQt4 installed:                 False\n    PySide >= 1.0.3 installed:       False\n    Tried to load:                   ['pyside', 'pyqt']\n    ",
     "output_type": "error",
     "traceback": [
      "\u001b[1;31m---------------------------------------------------------------------------\u001b[0m",
      "\u001b[1;31mImportError\u001b[0m                               Traceback (most recent call last)",
      "\u001b[1;32m<ipython-input-1-c5bc85d30c69>\u001b[0m in \u001b[0;36m<module>\u001b[1;34m\u001b[0m\n\u001b[0;32m      1\u001b[0m \u001b[1;32mimport\u001b[0m \u001b[0mvisa\u001b[0m\u001b[1;33m\u001b[0m\u001b[1;33m\u001b[0m\u001b[0m\n\u001b[1;32m----> 2\u001b[1;33m \u001b[1;32mfrom\u001b[0m \u001b[0mlantz\u001b[0m \u001b[1;32mimport\u001b[0m \u001b[0mFeat\u001b[0m\u001b[1;33m\u001b[0m\u001b[1;33m\u001b[0m\u001b[0m\n\u001b[0m\u001b[0;32m      3\u001b[0m \u001b[1;32mfrom\u001b[0m \u001b[0mlantz\u001b[0m\u001b[1;33m.\u001b[0m\u001b[0mcore\u001b[0m \u001b[1;32mimport\u001b[0m \u001b[0mmfeats\u001b[0m\u001b[1;33m\u001b[0m\u001b[1;33m\u001b[0m\u001b[0m\n\u001b[0;32m      4\u001b[0m \u001b[1;32mfrom\u001b[0m \u001b[0mlantz\u001b[0m \u001b[1;32mimport\u001b[0m \u001b[0mMessageBasedDriver\u001b[0m\u001b[1;33m\u001b[0m\u001b[1;33m\u001b[0m\u001b[0m\n\u001b[0;32m      5\u001b[0m \u001b[1;32mfrom\u001b[0m \u001b[0mlantz\u001b[0m\u001b[1;33m.\u001b[0m\u001b[0mcore\u001b[0m \u001b[1;32mimport\u001b[0m \u001b[0mlog\u001b[0m\u001b[1;33m\u001b[0m\u001b[1;33m\u001b[0m\u001b[0m\n",
      "\u001b[1;32m~\\AppData\\Local\\Continuum\\anaconda3\\envs\\instr\\lib\\site-packages\\lantz\\__init__.py\u001b[0m in \u001b[0;36m<module>\u001b[1;34m\u001b[0m\n\u001b[0;32m     23\u001b[0m \u001b[1;33m\u001b[0m\u001b[0m\n\u001b[0;32m     24\u001b[0m \u001b[1;32mfrom\u001b[0m \u001b[1;33m.\u001b[0m\u001b[0mlog\u001b[0m \u001b[1;32mimport\u001b[0m \u001b[0mLOGGER\u001b[0m\u001b[1;33m\u001b[0m\u001b[1;33m\u001b[0m\u001b[0m\n\u001b[1;32m---> 25\u001b[1;33m \u001b[1;32mfrom\u001b[0m \u001b[1;33m.\u001b[0m\u001b[0mdriver\u001b[0m \u001b[1;32mimport\u001b[0m \u001b[0mDriver\u001b[0m\u001b[1;33m,\u001b[0m \u001b[0mFeat\u001b[0m\u001b[1;33m,\u001b[0m \u001b[0mDictFeat\u001b[0m\u001b[1;33m,\u001b[0m \u001b[0mAction\u001b[0m\u001b[1;33m,\u001b[0m \u001b[0minitialize_many\u001b[0m\u001b[1;33m,\u001b[0m \u001b[0mfinalize_many\u001b[0m\u001b[1;33m\u001b[0m\u001b[1;33m\u001b[0m\u001b[0m\n\u001b[0m\u001b[0;32m     26\u001b[0m \u001b[1;33m\u001b[0m\u001b[0m\n\u001b[0;32m     27\u001b[0m \u001b[0m__all__\u001b[0m \u001b[1;33m=\u001b[0m \u001b[1;33m[\u001b[0m\u001b[1;34m'Driver'\u001b[0m\u001b[1;33m,\u001b[0m \u001b[1;34m'Action'\u001b[0m\u001b[1;33m,\u001b[0m \u001b[1;34m'Feat'\u001b[0m\u001b[1;33m,\u001b[0m \u001b[1;34m'DictFeat'\u001b[0m\u001b[1;33m,\u001b[0m \u001b[1;34m'Q_'\u001b[0m\u001b[1;33m]\u001b[0m\u001b[1;33m\u001b[0m\u001b[1;33m\u001b[0m\u001b[0m\n",
      "\u001b[1;32m~\\AppData\\Local\\Continuum\\anaconda3\\envs\\instr\\lib\\site-packages\\lantz\\driver.py\u001b[0m in \u001b[0;36m<module>\u001b[1;34m\u001b[0m\n\u001b[0;32m     17\u001b[0m \u001b[1;32mfrom\u001b[0m \u001b[0mcollections\u001b[0m \u001b[1;32mimport\u001b[0m \u001b[0mdefaultdict\u001b[0m\u001b[1;33m\u001b[0m\u001b[1;33m\u001b[0m\u001b[0m\n\u001b[0;32m     18\u001b[0m \u001b[1;33m\u001b[0m\u001b[0m\n\u001b[1;32m---> 19\u001b[1;33m \u001b[1;32mfrom\u001b[0m \u001b[1;33m.\u001b[0m\u001b[0mutils\u001b[0m\u001b[1;33m.\u001b[0m\u001b[0mqt\u001b[0m \u001b[1;32mimport\u001b[0m \u001b[0mMetaQObject\u001b[0m\u001b[1;33m,\u001b[0m \u001b[0mSuperQObject\u001b[0m\u001b[1;33m,\u001b[0m \u001b[0mQtCore\u001b[0m\u001b[1;33m\u001b[0m\u001b[1;33m\u001b[0m\u001b[0m\n\u001b[0m\u001b[0;32m     20\u001b[0m \u001b[1;32mfrom\u001b[0m \u001b[1;33m.\u001b[0m\u001b[0mfeat\u001b[0m \u001b[1;32mimport\u001b[0m \u001b[0mFeat\u001b[0m\u001b[1;33m,\u001b[0m \u001b[0mDictFeat\u001b[0m\u001b[1;33m,\u001b[0m \u001b[0mMISSING\u001b[0m\u001b[1;33m,\u001b[0m \u001b[0mFeatProxy\u001b[0m\u001b[1;33m\u001b[0m\u001b[1;33m\u001b[0m\u001b[0m\n\u001b[0;32m     21\u001b[0m \u001b[1;32mfrom\u001b[0m \u001b[1;33m.\u001b[0m\u001b[0maction\u001b[0m \u001b[1;32mimport\u001b[0m \u001b[0mAction\u001b[0m\u001b[1;33m,\u001b[0m \u001b[0mActionProxy\u001b[0m\u001b[1;33m\u001b[0m\u001b[1;33m\u001b[0m\u001b[0m\n",
      "\u001b[1;32m~\\AppData\\Local\\Continuum\\anaconda3\\envs\\instr\\lib\\site-packages\\lantz\\utils\\qt.py\u001b[0m in \u001b[0;36m<module>\u001b[1;34m\u001b[0m\n\u001b[0;32m     31\u001b[0m     \u001b[0mapi_opts\u001b[0m \u001b[1;33m=\u001b[0m \u001b[1;33m[\u001b[0m\u001b[0mQT_API\u001b[0m\u001b[1;33m]\u001b[0m\u001b[1;33m\u001b[0m\u001b[1;33m\u001b[0m\u001b[0m\n\u001b[0;32m     32\u001b[0m \u001b[1;33m\u001b[0m\u001b[0m\n\u001b[1;32m---> 33\u001b[1;33m \u001b[0mQtCore\u001b[0m\u001b[1;33m,\u001b[0m \u001b[0mQtGui\u001b[0m\u001b[1;33m,\u001b[0m \u001b[0mQtSvg\u001b[0m\u001b[1;33m,\u001b[0m \u001b[0mQT_API\u001b[0m \u001b[1;33m=\u001b[0m \u001b[0mload_qt\u001b[0m\u001b[1;33m(\u001b[0m\u001b[0mapi_opts\u001b[0m\u001b[1;33m)\u001b[0m\u001b[1;33m\u001b[0m\u001b[1;33m\u001b[0m\u001b[0m\n\u001b[0m\u001b[0;32m     34\u001b[0m \u001b[1;33m\u001b[0m\u001b[0m\n\u001b[0;32m     35\u001b[0m \u001b[1;33m\u001b[0m\u001b[0m\n",
      "\u001b[1;32m~\\AppData\\Local\\Continuum\\anaconda3\\envs\\instr\\lib\\site-packages\\lantz\\utils\\qt_loaders.py\u001b[0m in \u001b[0;36mload_qt\u001b[1;34m(api_options)\u001b[0m\n\u001b[0;32m    383\u001b[0m            \u001b[0mhas_binding\u001b[0m\u001b[1;33m(\u001b[0m\u001b[0mQT_API_PYQT\u001b[0m\u001b[1;33m)\u001b[0m\u001b[1;33m,\u001b[0m\u001b[1;33m\u001b[0m\u001b[1;33m\u001b[0m\u001b[0m\n\u001b[0;32m    384\u001b[0m            \u001b[0mhas_binding\u001b[0m\u001b[1;33m(\u001b[0m\u001b[0mQT_API_PYSIDE\u001b[0m\u001b[1;33m)\u001b[0m\u001b[1;33m,\u001b[0m\u001b[1;33m\u001b[0m\u001b[1;33m\u001b[0m\u001b[0m\n\u001b[1;32m--> 385\u001b[1;33m            api_options))\n\u001b[0m",
      "\u001b[1;31mImportError\u001b[0m: \n    Could not load requested Qt binding. Please ensure that\n    PyQt4 >= 4.7 or PySide >= 1.0.3 is available,\n    and only one is imported per session.\n\n    Currently-imported Qt library:   None\n    PyQt4 installed:                 False\n    PySide >= 1.0.3 installed:       False\n    Tried to load:                   ['pyside', 'pyqt']\n    "
     ]
    }
   ],
   "source": [
    "import visa\n",
    "from lantz import Feat\n",
    "from lantz.core import mfeats\n",
    "from lantz import MessageBasedDriver\n",
    "from lantz.core import log\n",
    "from logging import DEBUG\n",
    "\n",
    "import numpy as np\n",
    "import matplotlib.pyplot as plt\n",
    "\n",
    "\n",
    "from lantz import Feat\n",
    "from lantz.core import mfeats\n",
    "from lantz import MessageBasedDriver#http://localhost:8888/notebooks/Downloads/SegundaClase-master/OsciGenerador.ipynb#\n",
    "from lantz.core import log\n",
    "from logging import DEBUG\n",
    "import numpy as np\n",
    "import time\n",
    "\n",
    "\n",
    "class OsciloscopioTektronix1002B(MessageBasedDriver):\n",
    "\n",
    "    MANUFACTURER_ID = '0x0699'\n",
    "    MODEL_CODE = '0x0346'\n",
    "\n",
    "    @Feat()\n",
    "    def idn(self):\n",
    "        return self.query('*IDN?')\n",
    "\n",
    "    timebase = mfeats.QuantityFeat(\"HOR:MAI:SCA?\",\"HOR:MAI:SCA {}\", units = 's',limits=(0,10000))\n",
    "    \n",
    "    voltagescale = mfeats.QuantityFeat(\"CH1:SCA?\",\"CH1:SCA {}\", units = 'V',limits=(0,10))\n",
    "    @property\n",
    "    def canal(self):\n",
    "        return self.__canal\n",
    "    \n",
    "    @canal.setter\n",
    "    def canal(self, CH):  # def canal(self, CH, set_value = True):\n",
    "        self.write('DAT:SOU CH{}'.format(str(CH)))\n",
    "        #self.query('MEASU:IMM:SOU {}'.format(str(CH)))\n",
    "\n",
    "    @canal.getter\n",
    "    def canal(self):\n",
    "        return self.query('DAT:SOU?')\n",
    "\n",
    "\n",
    "    def pantalla(self):\n",
    "        self.write('DAT:ENC RPB')\n",
    "        self.write('DAT: WID 1')\n",
    "        data = self.resource.query_binary_values('CURV?', datatype='B',  is_big_endian=True)\n",
    "        time = np.arange(len(data))\n",
    "        return time, data\n",
    "\n",
    "    def escaleo(self):\n",
    "        #self.inst.write('DAT:ENC ASCIi')\n",
    "        #self.inst.write('DAT: WID 1')\n",
    "        print(self.query('WFMP?'))\n",
    "\n",
    "        #xze, xin, yze, ymu, yoff = self.inst.query_ascii_values('WFMPRE:XZE?;XIN?;YZE?;YMU?;YOFF?;')\n",
    "        # return xze, xin, yze, ymu, yoff\n",
    "\n",
    "    def escaleo2(self):\n",
    "        self.write('DAT:ENC RPB')\n",
    "        self.write('DAT: WID 1')\n",
    "        xze, xin, yze, ymu, yoff = self.resource.query_ascii_values(\n",
    "            'WFMP:XZE?;XIN?;YZE?;YMU?;YOF?;', separator=\";\")\n",
    "        return xze, xin, yze, ymu, yoff\n"
   ]
  },
  {
   "cell_type": "code",
   "execution_count": null,
   "metadata": {
    "collapsed": true
   },
   "outputs": [],
   "source": [
    "class Generador(MessageBasedDriver):\n",
    "\n",
    "    MANUFACTURER_ID = '0x0699'\n",
    "    MODEL_CODE = '0x0346'\n",
    "\n",
    "    @Feat()\n",
    "    def idn(self):\n",
    "        return self.query('*IDN?')\n",
    "    \n",
    "    @Feat(units = 'Hz',limits=(0,10000))\n",
    "    def freq(self):\n",
    "        self.log\n",
    "        return float(self.query(\"SOUR1:FREQ:FIX?\"))\n",
    "        \n",
    "    @freq.setter\n",
    "    def freq(self, hertz):\n",
    "        self.write(\"SOUR1:FREQ:FIX {}\".format(hertz))\n",
    "    \n",
    "    freqs = mfeats.QuantityFeat(\"SOUR1:FREQ:FIX?\",\"SOUR1:FREQ:FIX {}\", units = 'Hz',limits=(0,10000))\n",
    "        \n",
    "    def set_amp(self, volts):\n",
    "        self.write(\"SOUR1:VOLT:AMPL {}\".format(volts))\n",
    "   \n",
    "    def waveform_shape(self, channel = 1, shape = 'SIN'):\n",
    "        # Formas posibles: SIN, SQU, PULS, RAMP\n",
    "        # PRNoise, DC|SINC|GAUSsian|LORentz|ERISe|EDECay|\n",
    "        # HAVersine\n",
    "        self.write('SOUR{}:FUNC:SHAPE {}'.format(channel, shape))\n",
    "        \n",
    "    def waveform_phase(self, radians, channel = 1):\n",
    "        self.write('SOUR{}:PHAS {})'.format(channel, radians))\n",
    "    \n",
    "    def close_instrument(self):\n",
    "        # Close VISA session (Close instrument connection)\n",
    "        print(\"Killing\")\n",
    "        self.close()\n",
    "        print(\"VISA session closed!\")\n",
    "    \n",
    "    def freq_sweep(self, freq_inicial, freq_final, step, stop = 1, channel = 1):\n",
    "        # Hace un barrido de frecuencias desde freq_inicial hasta freq_final\n",
    "        # con un step. Entre cada cambio de frecuencia dejamos 1 segundo de\n",
    "        # stop.\n",
    "        frecuencias = np.arange(freq_inicial, freq_final, step)\n",
    "        for elemento in frecuencias:\n",
    "            self.write('SOUR{}:FREQ:FIX {}'.format(channel, elemento))\n",
    "            time.sleep(stop)\n",
    "            \n",
    "\n",
    "#with AFG3021b('USB0::0x0699::0x0346::C036492::INSTR') as inst:\n",
    " #   print(inst.idn)"
   ]
  },
  {
   "cell_type": "code",
   "execution_count": null,
   "metadata": {},
   "outputs": [],
   "source": [
    "rm = visa.ResourceManager()\n",
    "rm.list_resources()\n",
    "Osciloscopio = rm.list_resources()\n",
    "\n",
    "print(Osciloscopio)"
   ]
  },
  {
   "cell_type": "code",
   "execution_count": null,
   "metadata": {},
   "outputs": [],
   "source": [
    "gen = Generador('USB0::0x0699::0x0346::C033248::INSTR')\n",
    "gen.initialize()\n",
    "osci = OsciloscopioTektronix1002B('USB0::0x0699::0x0363::C108011::INSTR')\n",
    "osci.initialize()"
   ]
  },
  {
   "cell_type": "code",
   "execution_count": null,
   "metadata": {
    "collapsed": true
   },
   "outputs": [],
   "source": [
    "gen.freqs = 100 #tiene el problema, de que el query ademas de hacer un write hace un read."
   ]
  },
  {
   "cell_type": "code",
   "execution_count": null,
   "metadata": {
    "collapsed": true
   },
   "outputs": [],
   "source": [
    "time, data = osci.pantalla()\n",
    "xze, xin, yze, ymu, yoff = osci.escaleo2()\n",
    "data = np.array([float(i) for i in data])\n",
    "time = np.array([float(i) for i in time])\n",
    "data = -yoff*ymu + data*ymu \n",
    "time = xze + time * xin"
   ]
  },
  {
   "cell_type": "code",
   "execution_count": null,
   "metadata": {
    "collapsed": true
   },
   "outputs": [],
   "source": [
    "data1= data\n",
    "time1 = time"
   ]
  },
  {
   "cell_type": "code",
   "execution_count": null,
   "metadata": {
    "collapsed": true
   },
   "outputs": [],
   "source": [
    "osci.canal = 1"
   ]
  },
  {
   "cell_type": "code",
   "execution_count": null,
   "metadata": {},
   "outputs": [],
   "source": [
    "plt.plot(time1[1:600],data1[1:600])\n",
    "plt.plot(time2[1:600],data2[1:600])"
   ]
  },
  {
   "cell_type": "code",
   "execution_count": null,
   "metadata": {
    "collapsed": true
   },
   "outputs": [],
   "source": [
    "np.savetxt('data1.txt',data1)\n",
    "np.savetxt('time2.txt',time2)\n",
    "np.savetxt('data2.txt',data2)\n",
    "np.savetxt('time1.txt',time1)"
   ]
  },
  {
   "cell_type": "code",
   "execution_count": null,
   "metadata": {},
   "outputs": [],
   "source": [
    "#osci.canal = 0\n",
    "osci.query('DAT:SOU?')\n"
   ]
  },
  {
   "cell_type": "code",
   "execution_count": null,
   "metadata": {
    "collapsed": true
   },
   "outputs": [],
   "source": [
    "#Dependiendo que estamos levantando, grabar antes la data antes que se pise\n",
    "rango = 10 #la cantidad de iteraciones que voy a tener.\n",
    "paso = 100 # cada cuanto es el paso entre una frecuencia y la siguiente\n",
    "times = np.zeros((rango,2500)) #La cantidad de columnas es la cantidad de datos que me tira el osci\n",
    "datas = np.zeros((rango,2500)) # creo que era 2500, esto habria que chequearlo\n",
    "for i in range(0,rango):\n",
    "    gen.freqs = i*paso #tiene el problema, de que el query ademas de hacer un write hace un read.\n",
    "    osci.timebase = (1/(i*paso))/5  #Que cada 5 cuadraditos del Osci, halla 1 onda completa. Se vera si se ajusta\n",
    "    time, data = osci.pantalla() #levanto pantalla\n",
    "    xze, xin, yze, ymu, yoff = osci.escaleo2()#levanto el escaleo\n",
    "    datas = np.array([float(j) for j in data]) #transformo en float y en array\n",
    "    times = np.array([float(j) for j in time])\n",
    "    datas = -yoff*ymu + datas*ymu #hago la conversion del escaleo\n",
    "    times = xze + times * xin\n",
    "    mdata[:][i] = datas #Primer valor es fila, el segundo es columna\n",
    "    mtime[:][i] = times\n",
    "np.savetxt('Nombre barrido freq data',mdata, delimiter=' ') \n",
    "np.savetxt('Nombre barrido freq tiempo',mtime, delimiter=' ') "
   ]
  },
  {
   "cell_type": "code",
   "execution_count": null,
   "metadata": {
    "collapsed": true
   },
   "outputs": [],
   "source": [
    "rango = 10 #la cantidad de iteraciones que voy a tener.\n",
    "paso = 100 # cada cuanto es el paso entre una frecuencia y la siguiente\n",
    "times = np.zeros((rango,2500)) #La cantidad de columnas es la cantidad de datos que me tira el osci\n",
    "datas = np.zeros((rango,2500)) # creo que era 2500, esto habria que chequearlo\n",
    "for i in range(0,rango):\n",
    "    gen.set_amp( i*paso)  #tiene el problema, de que el query ademas de hacer un write hace un read.\n",
    "    osci.voltagescale = (1/(i*paso))/5  #Que cada 5 cuadraditos del Osci, halla 1 onda completa. Se vera si se ajusta\n",
    "    time, data = osci.pantalla() #levanto pantalla\n",
    "    xze, xin, yze, ymu, yoff = osci.escaleo2()#levanto el escaleo\n",
    "    datas = np.array([float(j) for j in data]) #transformo en float y en array\n",
    "    times = np.array([float(j) for j in time])\n",
    "    datas = -yoff*ymu + datas*ymu #hago la conversion del escaleo\n",
    "    times = xze + times * xin\n",
    "    mdata[:][i] = datas #Primer valor es fila, el segundo es columna\n",
    "    mtime[:][i] = times\n",
    "np.savetxt('Nombre barrido amp data',mdata, delimiter=' ') \n",
    "np.savetxt('Nombre barrido amp tiempo',mtime, delimiter=' ') "
   ]
  },
  {
   "cell_type": "code",
   "execution_count": 2,
   "metadata": {},
   "outputs": [],
   "source": [
    "entrada = [59.6,59.6,58.8,56.8,55.2,50.4,59.2,57.2,53.2]"
   ]
  },
  {
   "cell_type": "code",
   "execution_count": 9,
   "metadata": {},
   "outputs": [
    {
     "data": {
      "text/plain": [
       "9"
      ]
     },
     "execution_count": 9,
     "metadata": {},
     "output_type": "execute_result"
    }
   ],
   "source": [
    "len(entrada)"
   ]
  },
  {
   "cell_type": "code",
   "execution_count": 3,
   "metadata": {},
   "outputs": [],
   "source": [
    "salida = [42.8,44.8,45.6,50.4,55.6,60,40.4,38.8,34.4]"
   ]
  },
  {
   "cell_type": "code",
   "execution_count": 10,
   "metadata": {},
   "outputs": [],
   "source": [
    "f = [10000,15000,20000,50000,100000,200000,5000,1000,500]"
   ]
  },
  {
   "cell_type": "code",
   "execution_count": 14,
   "metadata": {},
   "outputs": [],
   "source": [
    "import matplotlib.pyplot as plt\n",
    "import numpy as np"
   ]
  },
  {
   "cell_type": "code",
   "execution_count": 17,
   "metadata": {},
   "outputs": [
    {
     "data": {
      "text/plain": [
       "[1.3925233644859814,\n",
       " 1.330357142857143,\n",
       " 1.289473684210526,\n",
       " 1.126984126984127,\n",
       " 0.9928057553956835,\n",
       " 0.84,\n",
       " 1.4653465346534655,\n",
       " 1.4742268041237114,\n",
       " 1.5465116279069768]"
      ]
     },
     "execution_count": 17,
     "metadata": {},
     "output_type": "execute_result"
    }
   ],
   "source": [
    "cociente = []\n",
    "for i in range(len(entrada)):\n",
    "    coc = entrada[i]/salida[i]\n",
    "    cociente.append(coc)\n",
    "\n",
    "cociente"
   ]
  },
  {
   "cell_type": "code",
   "execution_count": 18,
   "metadata": {},
   "outputs": [
    {
     "data": {
      "text/plain": [
       "[<matplotlib.lines.Line2D at 0x9130278>]"
      ]
     },
     "execution_count": 18,
     "metadata": {},
     "output_type": "execute_result"
    },
    {
     "data": {
      "image/png": "[encoded data removed]",
      "text/plain": [
       "<Figure size 432x288 with 1 Axes>"
      ]
     },
     "metadata": {
      "needs_background": "light"
     },
     "output_type": "display_data"
    }
   ],
   "source": [
    "plt.plot(f,20*np.log(cociente),'*')"
   ]
  },
  {
   "cell_type": "code",
   "execution_count": null,
   "metadata": {},
   "outputs": [],
   "source": []
  }
 ],
 "metadata": {
  "kernelspec": {
   "display_name": "Python 3",
   "language": "python",
   "name": "python3"
  },
  "language_info": {
   "codemirror_mode": {
    "name": "ipython",
    "version": 3
   },
   "file_extension": ".py",
   "mimetype": "text/x-python",
   "name": "python",
   "nbconvert_exporter": "python",
   "pygments_lexer": "ipython3",
   "version": "3.6.7"
  }
 },
 "nbformat": 4,
 "nbformat_minor": 2
}
