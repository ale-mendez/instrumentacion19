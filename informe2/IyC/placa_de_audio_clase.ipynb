{
 "cells": [
  {
   "cell_type": "code",
   "execution_count": 1,
   "metadata": {},
   "outputs": [
    {
     "name": "stdout",
     "output_type": "stream",
     "text": [
      "Using matplotlib backend: Qt5Agg\n"
     ]
    }
   ],
   "source": [
    "import visa\n",
    "import numpy as np\n",
    "import time\n",
    "import matplotlib.pyplot as plt\n",
    "%matplotlib auto\n",
    "import sounddevice as sd\n",
    "\n",
    "class PlacaAudio:\n",
    "    sampling_frequency=48000\n",
    "    channels = 2\n",
    "    def get_audio_and_plot_it(self,duration = 2):\n",
    "        N = int(duration*self.sampling_frequency)   \n",
    "        data_heard = sd.rec(N, samplerate=self.sampling_frequency, channels=2)\n",
    "        sd.wait()\n",
    "        t=np.arange(0,duration,1/self.sampling_frequency)\n",
    "        plt.plot(t,data_heard)\n",
    "        plt.show()\n",
    "        return t, data_heard\n",
    "\n",
    "    def generate_sine(self, frequency, duration,A=1):\n",
    "        sample = self.sampling_frequency*duration/frequency\n",
    "        x = np.arange(sample)\n",
    "        sinArray = A*np.sin(2*np.pi*frequency*x/self.sampling_frequency)\n",
    "        return sinArray\n",
    "    \n",
    "    def generate_ramp(self, frequency, duration):\n",
    "        sample = self.sampling_frequency*duration/frequency\n",
    "        x = np.arange(10*sample)\n",
    "        return x/self.sampling_frequency\n",
    "    \n",
    "    def play(self, data):\n",
    "        sd.play(data, self.sampling_frequency)\n",
    "    def create_random_sound(self, duration):\n",
    "        arrayRandom = [random.uniform(-10,10) for i in np.arange(0, self.sampling_frequency*duration)]\n",
    "        return np.asarray(arrayRandom)\n",
    "    def stop(self):\n",
    "        sd.stop()\n",
    "    def set_samplerate(self, sampling_frequency):\n",
    "        self.sampling_frequency = sampling_frequency\n",
    "        \n",
    "        \n",
    "    def record_sound(self, duration):\n",
    "        myrecording = sd.rec(duration * self.sampling_frequency, samplerate=self.sampling_frequency, channels=self.channels)\n",
    "        return myrecording\n",
    "    \n",
    "    \n",
    "    def record_and_play(self, data):\n",
    "        myrecording = sd.playrec(data, self.samplerate, self.channels)\n",
    "        return myrecording\n",
    "    def sine_gen_and_rec(self,duration,frequency,A):\n",
    "        sample = self.sampling_frequency*duration/frequency\n",
    "        x = np.arange(sample)\n",
    "        sinArray = A*np.sin(2*np.pi*frequency*x/self.sampling_frequency)\n",
    "        myrecording = sd.playrec(sinArray, self.sampling_frequency,  channels=1,blocking=True)\n",
    "        return myrecording\n",
    "            \n",
    "    def get_audio_tf_and_plot_it(self,duration = 2):\n",
    "        N = int(duration*self.sampling_frequency)\n",
    "        data_heard = sd.rec(N, samplerate=self.sampling_frequency, channels=2)\n",
    "        sd.wait()\n",
    "        X0 = np.fft.fftshift(np.fft.fft(data_heard[:,0])/N)\n",
    "        X1 = np.fft.fftshift(np.fft.fft(data_heard[:,1])/N)\n",
    "        T=1/self.sampling_frequency\n",
    "        f = np.arange(-1/(2*T),1/(2*T),1/(N*T))\n",
    "        plt.plot(f,np.abs(X0))\n",
    "        plt.show()\n",
    "        "
   ]
  },
  {
   "cell_type": "code",
   "execution_count": 2,
   "metadata": {},
   "outputs": [],
   "source": [
    "\n",
    "creemo = PlacaAudio()\n"
   ]
  },
  {
   "cell_type": "code",
   "execution_count": 3,
   "metadata": {},
   "outputs": [],
   "source": [
    "duration=1\n",
    "frequency=10\n",
    "A=1\n",
    "sample = creemo.sampling_frequency*duration/frequency\n",
    "x = np.arange(sample)\n",
    "sinArray = A*np.sin(2*np.pi*frequency*x/creemo.sampling_frequency)\n",
    "myrecording = sd.playrec(sinArray, channels=1,blocking=True)"
   ]
  },
  {
   "cell_type": "code",
   "execution_count": 7,
   "metadata": {},
   "outputs": [
    {
     "data": {
      "text/plain": [
       "[<matplotlib.lines.Line2D at 0x4008b00>]"
      ]
     },
     "execution_count": 7,
     "metadata": {},
     "output_type": "execute_result"
    },
    {
     "data": {
      "image/png": "[encoded data removed]",
      "text/plain": [
       "<Figure size 432x288 with 1 Axes>"
      ]
     },
     "metadata": {
      "needs_background": "light"
     },
     "output_type": "display_data"
    }
   ],
   "source": [
    "plt.plot(x,myrecording)"
   ]
  },
  {
   "cell_type": "code",
   "execution_count": null,
   "metadata": {},
   "outputs": [],
   "source": [
    "import sounddevice as sd\n",
    "import numpy as np\n",
    "import matplotlib.pyplot as plt\n",
    "sd.default.samplerate=4*11025\n",
    "sd.default.latency = ['high','high']\n",
    "\n",
    "def Senoidal(Offs,Ampl,Freq,nPeriods):\n",
    "    n=nPeriods\n",
    "    SR = sd.default.samplerate\n",
    "    t = np.linspace(0,n*np.divide(1,Freq),n*int(np.divide(SR,Freq)),endpoint=False) # valores de tiempo que van a ser barridos.\n",
    "    return t,np.divide(Ampl*np.sin(2*np.pi*Freq*t)+Offs,1.6)\n",
    "\n",
    "Freq = 1000\n",
    "t,y=Senoidal(0,.25,Freq,300)\n",
    "\n",
    "\n",
    "myrecording = sd.playrec(y, channels=2,blocking=True)\n",
    "\n",
    "ch1=np.asarray([i[0] for i in myrecording])\n",
    "#ch2=np.asarray([i[1] for i in myrecording])\n",
    "tiempo = np.divide(np.arange(len(ch1)),sd.default.samplerate)\n",
    "z=np.divide(y,2)\n",
    "plt.plot(tiempo,z,'-')\n",
    "plt.plot(tiempo,ch1,'.')\n",
    "#plt.plot(tiempo,ch2,'.')\n",
    "plt.xlim(0.2,0.205)"
   ]
  },
  {
   "cell_type": "code",
   "execution_count": null,
   "metadata": {},
   "outputs": [],
   "source": [
    "myrecording"
   ]
  },
  {
   "cell_type": "code",
   "execution_count": null,
   "metadata": {},
   "outputs": [],
   "source": [
    "data = creemo.generate_sine(100,500,0.5)\n",
    "creemo.play(data)\n",
    "2*0.5*1.25"
   ]
  },
  {
   "cell_type": "code",
   "execution_count": null,
   "metadata": {},
   "outputs": [],
   "source": [
    "sd.query_devices()"
   ]
  },
  {
   "cell_type": "code",
   "execution_count": null,
   "metadata": {},
   "outputs": [],
   "source": [
    "np.savetxt('.txt', data)\n",
    "np.savetxt('.txt', t)"
   ]
  },
  {
   "cell_type": "code",
   "execution_count": 18,
   "metadata": {},
   "outputs": [
    {
     "data": {
      "image/png": "[encoded data removed]",
      "text/plain": [
       "<Figure size 432x288 with 1 Axes>"
      ]
     },
     "metadata": {
      "needs_background": "light"
     },
     "output_type": "display_data"
    }
   ],
   "source": [
    "escuchemo = PlacaAudio()\n",
    "t, data = escuchemo.get_audio_and_plot_it(0.1)"
   ]
  },
  {
   "cell_type": "code",
   "execution_count": null,
   "metadata": {},
   "outputs": [],
   "source": [
    "np.shape(data)"
   ]
  },
  {
   "cell_type": "code",
   "execution_count": null,
   "metadata": {},
   "outputs": [],
   "source": [
    "data"
   ]
  },
  {
   "cell_type": "code",
   "execution_count": null,
   "metadata": {},
   "outputs": [],
   "source": [
    "a = [row[0] for row in data]\n",
    "b = [row[1] for row in data]\n",
    "np.savetxt('a.txt',a)\n",
    "np.savetxt('b.txt',b)"
   ]
  },
  {
   "cell_type": "code",
   "execution_count": null,
   "metadata": {},
   "outputs": [],
   "source": [
    "plt.plot(a,b,'*')"
   ]
  },
  {
   "cell_type": "code",
   "execution_count": null,
   "metadata": {},
   "outputs": [],
   "source": [
    "%matplotlib inline\n",
    "plt.plot(t,2.17*data)\n",
    "2*np.max(data[50:])"
   ]
  },
  {
   "cell_type": "code",
   "execution_count": null,
   "metadata": {},
   "outputs": [],
   "source": [
    "data = creemo.generate_ramp(100,50)\n",
    "creemo.play(z)"
   ]
  },
  {
   "cell_type": "code",
   "execution_count": null,
   "metadata": {},
   "outputs": [],
   "source": [
    "data"
   ]
  },
  {
   "cell_type": "code",
   "execution_count": null,
   "metadata": {},
   "outputs": [],
   "source": [
    "ampEnv = [4.12, 3.08, 2.08, 1.02, 0.52, 1.53, 2.59, 3.6, 4.62, 5.14, 5.88, 4.36, 4.44]\n",
    "ampMed = [1.89, 1.43, 0.95, 0.48, 0.24, 0.71, 1.19, 1.66, 1.95, 1.95, 1.95, 1.97, 1.94]\n",
    "plt.scatter(ampEnv,ampMed)"
   ]
  },
  {
   "cell_type": "code",
   "execution_count": null,
   "metadata": {},
   "outputs": [],
   "source": [
    "from scipy import signal as sg\n",
    "f=10 #frecuencia de la señal a emitirriang\n",
    "N=50 #número de puntos por período\n",
    "n=30 #número de períodos\n",
    "A=1\n",
    "\n",
    "t = np.linspace(0,n*np.divide(1,f),n*N,endpoint=False) # valores de tiempo que van a ser barridos.\n",
    "z=A*sg.sawtooth(2*np.pi*t)"
   ]
  },
  {
   "cell_type": "code",
   "execution_count": null,
   "metadata": {},
   "outputs": [],
   "source": [
    "plt.plot(t,z)"
   ]
  },
  {
   "cell_type": "code",
   "execution_count": null,
   "metadata": {},
   "outputs": [],
   "source": [
    "n*np.divide(1,f)"
   ]
  },
  {
   "cell_type": "code",
   "execution_count": null,
   "metadata": {},
   "outputs": [],
   "source": [
    "creemo.play(z)"
   ]
  },
  {
   "cell_type": "code",
   "execution_count": null,
   "metadata": {},
   "outputs": [],
   "source": [
    "t = np.linspace(0, 1000, 500000)\n",
    "z=1+sg.sawtooth(2 * np.pi * 5 * t)                \n",
    "plt.plot(t[1:500], z[1:500])"
   ]
  },
  {
   "cell_type": "code",
   "execution_count": null,
   "metadata": {},
   "outputs": [],
   "source": [
    "plt.plot(t, 1+ sg.sawtooth(2 * np.pi * 0.01 * t))"
   ]
  },
  {
   "cell_type": "code",
   "execution_count": null,
   "metadata": {},
   "outputs": [],
   "source": [
    "#MEDICIONES FREC VS FREC, AMP VS FREC COMO OSCILOSCOPIO"
   ]
  },
  {
   "cell_type": "code",
   "execution_count": null,
   "metadata": {},
   "outputs": [],
   "source": [
    "Frecsbis = [0.5,  0.3, 0.4, 1,  100, 500, 1000, 2000, 5000, 10000, 15000, 18000, 19000, 19500, 20000]\n",
    "Frecs2 = [0.4999, 0.300000, 0.40040, 9.9997, 99.99710, 500, 1000, 2000, 5000.6, 9999.7, 15000, 18000, 19003, 19496, 20006]\n",
    "Amplitudes = [0.1998,  0.1294, 0.5348, 0.9886, 0.9941, 0.9926, 0.9902, 0.9832, 0.9806, 0.9788, 0.9917, 0.7693 ,0.6214,0.5302,0.4231]"
   ]
  },
  {
   "cell_type": "code",
   "execution_count": null,
   "metadata": {},
   "outputs": [],
   "source": [
    "Amp = np.zeros(len(Amplitudes))\n",
    "log = np.zeros(len(Amplitudes))\n",
    "for i in range(len(Amplitudes)):\n",
    "    Amp[i] = 2*2.179*Amplitudes[i]\n",
    "    log[i] = 20*np.log(Amp[i]/4) "
   ]
  },
  {
   "cell_type": "code",
   "execution_count": null,
   "metadata": {},
   "outputs": [],
   "source": [
    "plt.scatter(Frecs2,log)"
   ]
  },
  {
   "cell_type": "code",
   "execution_count": null,
   "metadata": {},
   "outputs": [],
   "source": [
    "Amp"
   ]
  },
  {
   "cell_type": "code",
   "execution_count": null,
   "metadata": {},
   "outputs": [],
   "source": []
  }
 ],
 "metadata": {
  "kernelspec": {
   "display_name": "Python 3",
   "language": "python",
   "name": "python3"
  },
  "language_info": {
   "codemirror_mode": {
    "name": "ipython",
    "version": 3
   },
   "file_extension": ".py",
   "mimetype": "text/x-python",
   "name": "python",
   "nbconvert_exporter": "python",
   "pygments_lexer": "ipython3",
   "version": "3.6.7"
  }
 },
 "nbformat": 4,
 "nbformat_minor": 2
}
